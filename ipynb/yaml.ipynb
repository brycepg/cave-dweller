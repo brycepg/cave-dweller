{
 "cells": [
  {
   "cell_type": "code",
   "execution_count": 1,
   "metadata": {
    "collapsed": true
   },
   "outputs": [],
   "source": [
    "import sys\n",
    "sys.path.append(\"..\")\n",
    "import cave_dweller\n",
    "import cave_dweller.libtcodpy as libtcod\n",
    "import cave_dweller.colors as colors"
   ]
  },
  {
   "cell_type": "code",
   "execution_count": 2,
   "metadata": {
    "collapsed": true
   },
   "outputs": [],
   "source": [
    "import yaml\n",
    "from collections import namedtuple"
   ]
  },
  {
   "cell_type": "code",
   "execution_count": 3,
   "metadata": {
    "collapsed": true
   },
   "outputs": [],
   "source": [
    "tiles_meta = \"\"\"\n",
    "# ------ META INFORMATION about tiles ------\n",
    "# Defaults for all tiles - required\n",
    "DEFAULTS:\n",
    "  char: SPACE\n",
    "  readable_name: null\n",
    "  is_obstacle: false\n",
    "  fg: BLACK\n",
    "  bg: null\n",
    "  adjacent_hidden: false\n",
    "  diggable: false\n",
    "  dig_to: null\n",
    "  buildable: false\n",
    "  build_to: null\n",
    "  tile_class: default\n",
    "  tag: \"\"\n",
    "  name: None\n",
    "  \n",
    "# Blocks to be used in world generation - required\n",
    "GENERATION:\n",
    " ground_blocks:\n",
    "  - use_tag: GROUND\n",
    " wall_blocks:\n",
    "  - use_class: WALL\n",
    "\n",
    "# Required\n",
    "TRANSITIONS:\n",
    " BUILD:\n",
    "    - char: 176\n",
    "    - char: 177\n",
    "    - char: 178\n",
    " DIG:\n",
    "    - char: 178\n",
    "    - char: 177\n",
    "    - char: 176     \n",
    "\"\"\""
   ]
  },
  {
   "cell_type": "code",
   "execution_count": 4,
   "metadata": {
    "collapsed": true
   },
   "outputs": [],
   "source": [
    "tiles = \"\"\"\n",
    "ground:\n",
    " tile_class: GROUND\n",
    " tag: reg_ground\n",
    " readable_name: Ground\n",
    " # This will generate three similar instances of this block\n",
    " char: ['-', '.', '`']\n",
    " fg: GRAY\n",
    " bg: DARKEST_GRAY\n",
    " buildable: true\n",
    " build_to: wall\n",
    " \n",
    "wall:\n",
    " tile_class: WALL\n",
    " readable_name: Limestone\n",
    " diggable: true\n",
    " buildable: false\n",
    " char: 'x'\n",
    " dig_to: ground\n",
    " \n",
    "muddy_ground:\n",
    " inherits: ground\n",
    " bg: LIGHT_BROWN\n",
    " # XXX biomes are not actually implemented yet\n",
    " biome: muddy\n",
    "\"\"\""
   ]
  },
  {
   "cell_type": "code",
   "execution_count": 5,
   "metadata": {
    "collapsed": true
   },
   "outputs": [],
   "source": [
    "color_lookup = {}\n",
    "\n",
    "color_lookup['black'] = colors.black\n",
    "color_lookup['gray'] = colors.gray\n",
    "color_lookup['darkest_gray'] = colors.darkest_gray\n",
    "color_lookup['light_brown'] = colors.sepia\n",
    "\n",
    "def translate_color(color_str_raw):\n",
    "    if color_str_raw is None:\n",
    "        return None\n",
    "    color_str = color_str_raw.lower()\n",
    "    return color_lookup[color_str]\n",
    "    "
   ]
  },
  {
   "cell_type": "code",
   "execution_count": 6,
   "metadata": {
    "collapsed": true
   },
   "outputs": [],
   "source": [
    "def translate_char(char_str):\n",
    "    if char_str is None:\n",
    "        return\n",
    "    if isinstance(char_str, int):\n",
    "        return char_str\n",
    "    if char_str == \"SPACE\":\n",
    "        return ord(' ')\n",
    "    elif len(char_str) == 1:\n",
    "        return ord(char_str)\n",
    "    else:\n",
    "        raise RuntimeError(\"{char} cannot be translated\".format(char=char_str))"
   ]
  },
  {
   "cell_type": "code",
   "execution_count": 7,
   "metadata": {
    "collapsed": false
   },
   "outputs": [],
   "source": [
    "tile_meta_dict = yaml.load(tiles_meta)"
   ]
  },
  {
   "cell_type": "code",
   "execution_count": 8,
   "metadata": {
    "collapsed": false
   },
   "outputs": [
    {
     "data": {
      "text/plain": [
       "['bg',\n",
       " 'name',\n",
       " 'fg',\n",
       " 'diggable',\n",
       " 'adjacent_hidden',\n",
       " 'readable_name',\n",
       " 'build_to',\n",
       " 'char',\n",
       " 'buildable',\n",
       " 'tile_class',\n",
       " 'is_obstacle',\n",
       " 'tag',\n",
       " 'dig_to']"
      ]
     },
     "execution_count": 8,
     "metadata": {},
     "output_type": "execute_result"
    }
   ],
   "source": [
    "tile_meta_dict['DEFAULTS'].keys()\n"
   ]
  },
  {
   "cell_type": "code",
   "execution_count": 9,
   "metadata": {
    "collapsed": false
   },
   "outputs": [
    {
     "data": {
      "text/plain": [
       "[None,\n",
       " 'None',\n",
       " 'BLACK',\n",
       " False,\n",
       " False,\n",
       " None,\n",
       " None,\n",
       " 'SPACE',\n",
       " False,\n",
       " 'default',\n",
       " False,\n",
       " '',\n",
       " None]"
      ]
     },
     "execution_count": 9,
     "metadata": {},
     "output_type": "execute_result"
    }
   ],
   "source": [
    "tile_meta_dict['DEFAULTS'].values()"
   ]
  },
  {
   "cell_type": "code",
   "execution_count": 10,
   "metadata": {
    "collapsed": false
   },
   "outputs": [],
   "source": [
    "tile_namedtuple_defaults = tile_meta_dict['DEFAULTS'].copy()\n",
    "tile_namedtuple_defaults['fg'] = translate_color(tile_meta_dict['DEFAULTS']['fg'])\n",
    "tile_namedtuple_defaults['bg'] = translate_color(tile_meta_dict['DEFAULTS']['bg'])\n",
    "tile_namedtuple_defaults['char'] = translate_char(tile_meta_dict['DEFAULTS']['char'])\n"
   ]
  },
  {
   "cell_type": "code",
   "execution_count": 11,
   "metadata": {
    "collapsed": false
   },
   "outputs": [
    {
     "data": {
      "text/plain": [
       "['bg',\n",
       " 'name',\n",
       " 'diggable',\n",
       " 'adjacent_hidden',\n",
       " 'readable_name',\n",
       " 'build_to',\n",
       " 'char',\n",
       " 'buildable',\n",
       " 'is_obstacle',\n",
       " 'tile_class',\n",
       " 'fg',\n",
       " 'tag',\n",
       " 'dig_to']"
      ]
     },
     "execution_count": 11,
     "metadata": {},
     "output_type": "execute_result"
    }
   ],
   "source": [
    "tile_namedtuple_defaults.keys()"
   ]
  },
  {
   "cell_type": "code",
   "execution_count": 12,
   "metadata": {
    "collapsed": false
   },
   "outputs": [
    {
     "data": {
      "text/plain": [
       "3"
      ]
     },
     "execution_count": 12,
     "metadata": {},
     "output_type": "execute_result"
    }
   ],
   "source": [
    "len(tile_meta_dict['TRANSITIONS']['BUILD'])"
   ]
  },
  {
   "cell_type": "code",
   "execution_count": 74,
   "metadata": {
    "collapsed": false
   },
   "outputs": [],
   "source": [
    "class ConfigurationError(Exception):\n",
    "    pass\n",
    "\n",
    "def load_tiles(tiles_dict, tile_meta_dict, tile_builder):\n",
    "    tile_lookup = {}\n",
    "    for tile_name_base in tiles_dict:\n",
    "        for tile_name, translated_tile in translate_tile(tile_name_base,\n",
    "                                                         tiles_dict,\n",
    "                                                         tile_meta_dict,\n",
    "                                                         tile_builder):\n",
    "            tile_lookup[tile_name] = translated_tile\n",
    "    return tile_lookup\n",
    "        \n",
    "def translate_tile(tile_name_base, tiles_dict, tiles_meta, tile_builder):\n",
    "        \n",
    "        cur_tile = tiles_dict[tile_name_base]\n",
    "        if 'inherits' in cur_tile:\n",
    "            cur_tile = tiles_dict[cur_tile['inherits']].copy()\n",
    "            if 'tag' in cur_tile:\n",
    "                del cur_tile['tag'] \n",
    "            cur_tile.update(tiles_dict[tile_name_base])\n",
    "        char = cur_tile.get('char')\n",
    "        namedtuple_args = {}\n",
    "        if 'fg' in cur_tile:\n",
    "            namedtuple_args['fg'] = translate_color(cur_tile['fg'])\n",
    "        if 'bg' in cur_tile:\n",
    "            namedtuple_args['bg'] = translate_color(cur_tile['bg'])\n",
    "        copy_args = ['diggable', 'adjacent_hidden', 'readable_name', 'buildable', 'is_obstacle', 'tile_class', 'tag']\n",
    "        if 'build_to' in cur_tile:\n",
    "            if cur_tile.get('buildable') != True:\n",
    "                raise ConfigurationError(\"buildable must be true to specify build_to\")\n",
    "        if 'dig_to' in cur_tile:\n",
    "            if cur_tile.get('diggable') != True:\n",
    "                raise ConfigurationError(\"diggable must be true to specify dig_to\")\n",
    "                \n",
    "        build_to = cur_tile.get('build_to')\n",
    "        dig_to = cur_tile.get('dig_to')\n",
    "                \n",
    "        for arg in copy_args:\n",
    "            if arg in cur_tile:\n",
    "                namedtuple_args[arg] = cur_tile[arg]\n",
    "\n",
    "        input_blueprints = []\n",
    "        # One codepath for character variation tiles\n",
    "        if not isinstance(char, list):\n",
    "            char = [char]\n",
    "        for variation_index, char_variation in enumerate(char):\n",
    "            tile_b = namedtuple_args.copy()\n",
    "            tile_b['char'] = translate_char(char_variation)\n",
    "            if tile_b['char'] is None:\n",
    "                del tile_b['char']\n",
    "            if tile_b.get('buildable') == True:\n",
    "                tile_b['build_to'] = name_build(tile_name_base, variation_index, 0)\n",
    "            if tile_b.get('diggable') == True:\n",
    "                tile_b['dig_to'] = name_dig(tile_name_base, variation_index, 0)\n",
    "            input_blueprints.append(tile_b)                     \n",
    "                    \n",
    "        for index, tile in enumerate(input_blueprints):\n",
    "            tile['name'] = get_name(tile_name_base, index)\n",
    "            yield tile['name'], tile_builder(**tile)\n",
    "            \n",
    "        for blueprint_index, blueprint in enumerate(input_blueprints):\n",
    "            if 'tag' in blueprint:\n",
    "                del blueprint['tag']\n",
    "            if blueprint.get('buildable') == True:\n",
    "                next_index = range(1, len(tiles_meta['TRANSITIONS']['BUILD']))\n",
    "                for index, transition in enumerate(tiles_meta['TRANSITIONS']['BUILD']):                    \n",
    "                    prev = blueprint['name'] if index == 0 else name\n",
    "                    name = name_build(tile_name_base, blueprint_index, index)\n",
    "                    tile_b = blueprint.copy()\n",
    "                    tile_b['char'] = translate_char(transition['char'])\n",
    "                    try:\n",
    "                        tile_b['build_to'] = name_build(tile_name_base, blueprint_index, next_index[index])\n",
    "                    except IndexError:\n",
    "                        tile_b['build_to'] = build_to\n",
    "                    tile_b['dig_to'] = prev\n",
    "                    tile_b['name'] = name\n",
    "                    yield name, tile_builder(**tile_b)\n",
    "            if blueprint.get('diggable') == True:\n",
    "                next_index = range(1, len(tiles_meta['TRANSITIONS']['DIG']))\n",
    "                for index, transition in enumerate(tiles_meta['TRANSITIONS']['DIG']):                    \n",
    "                    prev = blueprint['name'] if index == 0 else name\n",
    "                    name = name_dig(tile_name_base, blueprint_index, index)\n",
    "                    try:\n",
    "                        tile_b['dig_to'] = name_dig(tile_name_base, blueprint_index, next_index[index])\n",
    "                    except IndexError:\n",
    "                        tile_b['dig_to'] = dig_to\n",
    "                    tile_b['build_to'] = prev\n",
    "                    tile_b['name'] = name\n",
    "                    yield name, tile_builder(**tile_b)\n",
    "                    \n",
    "def get_name(base_name, variation_index):   \n",
    "    return base_name + str(variation_index) if variation_index>0 else base_name\n",
    "\n",
    "def name_build(base_name, variation_index, index):\n",
    "    return ''.join([get_name(base_name, variation_index), '_build', str(index)])\n",
    "\n",
    "def name_dig(base_name, variation_index, index):\n",
    "    return ''.join([get_name(base_name, variation_index), '_dig', str(index)])"
   ]
  },
  {
   "cell_type": "code",
   "execution_count": 75,
   "metadata": {
    "collapsed": false
   },
   "outputs": [],
   "source": [
    "Tile = namedtuple('Tile', tile_namedtuple_defaults.keys())\n",
    "Tile.__new__.__defaults__ = tuple(tile_namedtuple_defaults.values())"
   ]
  },
  {
   "cell_type": "code",
   "execution_count": 76,
   "metadata": {
    "collapsed": false
   },
   "outputs": [],
   "source": [
    "tiles_dict = yaml.load(tiles)\n"
   ]
  },
  {
   "cell_type": "code",
   "execution_count": 77,
   "metadata": {
    "collapsed": false
   },
   "outputs": [],
   "source": [
    "tile_lookup = load_tiles(tiles_dict, tile_meta_dict, Tile)"
   ]
  },
  {
   "cell_type": "code",
   "execution_count": 78,
   "metadata": {
    "collapsed": false
   },
   "outputs": [],
   "source": [
    "any_ground = [tile for tile in tile_lookup.values() if tile.tag.lower()=='reg_ground']"
   ]
  },
  {
   "cell_type": "code",
   "execution_count": 79,
   "metadata": {
    "collapsed": false
   },
   "outputs": [
    {
     "data": {
      "text/plain": [
       "{'ground': Tile(bg=Color(31,31,31), name='ground', diggable=False, adjacent_hidden=False, readable_name='Ground', build_to='ground_build0', char=45, buildable=True, is_obstacle=False, tile_class='GROUND', fg=Color(127,127,127), tag='reg_ground', dig_to=None),\n",
       " 'ground1': Tile(bg=Color(31,31,31), name='ground1', diggable=False, adjacent_hidden=False, readable_name='Ground', build_to='ground1_build0', char=46, buildable=True, is_obstacle=False, tile_class='GROUND', fg=Color(127,127,127), tag='reg_ground', dig_to=None),\n",
       " 'ground1_build0': Tile(bg=Color(31,31,31), name='ground1_build0', diggable=False, adjacent_hidden=False, readable_name='Ground', build_to='ground1_build1', char=176, buildable=True, is_obstacle=False, tile_class='GROUND', fg=Color(127,127,127), tag='', dig_to='ground1'),\n",
       " 'ground1_build1': Tile(bg=Color(31,31,31), name='ground1_build1', diggable=False, adjacent_hidden=False, readable_name='Ground', build_to='ground1_build2', char=177, buildable=True, is_obstacle=False, tile_class='GROUND', fg=Color(127,127,127), tag='', dig_to='ground1_build0'),\n",
       " 'ground1_build2': Tile(bg=Color(31,31,31), name='ground1_build2', diggable=False, adjacent_hidden=False, readable_name='Ground', build_to='wall', char=178, buildable=True, is_obstacle=False, tile_class='GROUND', fg=Color(127,127,127), tag='', dig_to='ground1_build1'),\n",
       " 'ground2': Tile(bg=Color(31,31,31), name='ground2', diggable=False, adjacent_hidden=False, readable_name='Ground', build_to='ground2_build0', char=96, buildable=True, is_obstacle=False, tile_class='GROUND', fg=Color(127,127,127), tag='reg_ground', dig_to=None),\n",
       " 'ground2_build0': Tile(bg=Color(31,31,31), name='ground2_build0', diggable=False, adjacent_hidden=False, readable_name='Ground', build_to='ground2_build1', char=176, buildable=True, is_obstacle=False, tile_class='GROUND', fg=Color(127,127,127), tag='', dig_to='ground2'),\n",
       " 'ground2_build1': Tile(bg=Color(31,31,31), name='ground2_build1', diggable=False, adjacent_hidden=False, readable_name='Ground', build_to='ground2_build2', char=177, buildable=True, is_obstacle=False, tile_class='GROUND', fg=Color(127,127,127), tag='', dig_to='ground2_build0'),\n",
       " 'ground2_build2': Tile(bg=Color(31,31,31), name='ground2_build2', diggable=False, adjacent_hidden=False, readable_name='Ground', build_to='wall', char=178, buildable=True, is_obstacle=False, tile_class='GROUND', fg=Color(127,127,127), tag='', dig_to='ground2_build1'),\n",
       " 'ground_build0': Tile(bg=Color(31,31,31), name='ground_build0', diggable=False, adjacent_hidden=False, readable_name='Ground', build_to='ground_build1', char=176, buildable=True, is_obstacle=False, tile_class='GROUND', fg=Color(127,127,127), tag='', dig_to='ground'),\n",
       " 'ground_build1': Tile(bg=Color(31,31,31), name='ground_build1', diggable=False, adjacent_hidden=False, readable_name='Ground', build_to='ground_build2', char=177, buildable=True, is_obstacle=False, tile_class='GROUND', fg=Color(127,127,127), tag='', dig_to='ground_build0'),\n",
       " 'ground_build2': Tile(bg=Color(31,31,31), name='ground_build2', diggable=False, adjacent_hidden=False, readable_name='Ground', build_to='wall', char=178, buildable=True, is_obstacle=False, tile_class='GROUND', fg=Color(127,127,127), tag='', dig_to='ground_build1'),\n",
       " 'muddy_ground': Tile(bg=Color(127,101,63), name='muddy_ground', diggable=False, adjacent_hidden=False, readable_name='Ground', build_to='muddy_ground_build0', char=45, buildable=True, is_obstacle=False, tile_class='GROUND', fg=Color(127,127,127), tag='', dig_to=None),\n",
       " 'muddy_ground1': Tile(bg=Color(127,101,63), name='muddy_ground1', diggable=False, adjacent_hidden=False, readable_name='Ground', build_to='muddy_ground1_build0', char=46, buildable=True, is_obstacle=False, tile_class='GROUND', fg=Color(127,127,127), tag='', dig_to=None),\n",
       " 'muddy_ground1_build0': Tile(bg=Color(127,101,63), name='muddy_ground1_build0', diggable=False, adjacent_hidden=False, readable_name='Ground', build_to='muddy_ground1_build1', char=176, buildable=True, is_obstacle=False, tile_class='GROUND', fg=Color(127,127,127), tag='', dig_to='muddy_ground1'),\n",
       " 'muddy_ground1_build1': Tile(bg=Color(127,101,63), name='muddy_ground1_build1', diggable=False, adjacent_hidden=False, readable_name='Ground', build_to='muddy_ground1_build2', char=177, buildable=True, is_obstacle=False, tile_class='GROUND', fg=Color(127,127,127), tag='', dig_to='muddy_ground1_build0'),\n",
       " 'muddy_ground1_build2': Tile(bg=Color(127,101,63), name='muddy_ground1_build2', diggable=False, adjacent_hidden=False, readable_name='Ground', build_to='wall', char=178, buildable=True, is_obstacle=False, tile_class='GROUND', fg=Color(127,127,127), tag='', dig_to='muddy_ground1_build1'),\n",
       " 'muddy_ground2': Tile(bg=Color(127,101,63), name='muddy_ground2', diggable=False, adjacent_hidden=False, readable_name='Ground', build_to='muddy_ground2_build0', char=96, buildable=True, is_obstacle=False, tile_class='GROUND', fg=Color(127,127,127), tag='', dig_to=None),\n",
       " 'muddy_ground2_build0': Tile(bg=Color(127,101,63), name='muddy_ground2_build0', diggable=False, adjacent_hidden=False, readable_name='Ground', build_to='muddy_ground2_build1', char=176, buildable=True, is_obstacle=False, tile_class='GROUND', fg=Color(127,127,127), tag='', dig_to='muddy_ground2'),\n",
       " 'muddy_ground2_build1': Tile(bg=Color(127,101,63), name='muddy_ground2_build1', diggable=False, adjacent_hidden=False, readable_name='Ground', build_to='muddy_ground2_build2', char=177, buildable=True, is_obstacle=False, tile_class='GROUND', fg=Color(127,127,127), tag='', dig_to='muddy_ground2_build0'),\n",
       " 'muddy_ground2_build2': Tile(bg=Color(127,101,63), name='muddy_ground2_build2', diggable=False, adjacent_hidden=False, readable_name='Ground', build_to='wall', char=178, buildable=True, is_obstacle=False, tile_class='GROUND', fg=Color(127,127,127), tag='', dig_to='muddy_ground2_build1'),\n",
       " 'muddy_ground_build0': Tile(bg=Color(127,101,63), name='muddy_ground_build0', diggable=False, adjacent_hidden=False, readable_name='Ground', build_to='muddy_ground_build1', char=176, buildable=True, is_obstacle=False, tile_class='GROUND', fg=Color(127,127,127), tag='', dig_to='muddy_ground'),\n",
       " 'muddy_ground_build1': Tile(bg=Color(127,101,63), name='muddy_ground_build1', diggable=False, adjacent_hidden=False, readable_name='Ground', build_to='muddy_ground_build2', char=177, buildable=True, is_obstacle=False, tile_class='GROUND', fg=Color(127,127,127), tag='', dig_to='muddy_ground_build0'),\n",
       " 'muddy_ground_build2': Tile(bg=Color(127,101,63), name='muddy_ground_build2', diggable=False, adjacent_hidden=False, readable_name='Ground', build_to='wall', char=178, buildable=True, is_obstacle=False, tile_class='GROUND', fg=Color(127,127,127), tag='', dig_to='muddy_ground_build1'),\n",
       " 'wall': Tile(bg=None, name='wall', diggable=True, adjacent_hidden=False, readable_name='Limestone', build_to=None, char=120, buildable=False, is_obstacle=False, tile_class='WALL', fg=Color(0,0,0), tag='', dig_to='wall_dig0'),\n",
       " 'wall_dig0': Tile(bg=None, name='wall_dig0', diggable=True, adjacent_hidden=False, readable_name='Limestone', build_to='wall', char=120, buildable=False, is_obstacle=False, tile_class='WALL', fg=Color(0,0,0), tag='', dig_to='wall_dig1'),\n",
       " 'wall_dig1': Tile(bg=None, name='wall_dig1', diggable=True, adjacent_hidden=False, readable_name='Limestone', build_to='wall_dig0', char=120, buildable=False, is_obstacle=False, tile_class='WALL', fg=Color(0,0,0), tag='', dig_to='wall_dig2'),\n",
       " 'wall_dig2': Tile(bg=None, name='wall_dig2', diggable=True, adjacent_hidden=False, readable_name='Limestone', build_to='wall_dig1', char=120, buildable=False, is_obstacle=False, tile_class='WALL', fg=Color(0,0,0), tag='', dig_to='ground')}"
      ]
     },
     "execution_count": 79,
     "metadata": {},
     "output_type": "execute_result"
    }
   ],
   "source": [
    "tile_lookup"
   ]
  },
  {
   "cell_type": "code",
   "execution_count": 20,
   "metadata": {
    "collapsed": false
   },
   "outputs": [
    {
     "data": {
      "text/plain": [
       "[Tile(bg=Color(31,31,31), name='ground1', diggable=False, adjacent_hidden=False, readable_name='Ground', build_to='ground1_build0', char=46, buildable=True, is_obstacle=False, tile_class='GROUND', fg=Color(127,127,127), tag='reg_ground', dig_to=None),\n",
       " Tile(bg=Color(31,31,31), name='ground2', diggable=False, adjacent_hidden=False, readable_name='Ground', build_to='ground2_build0', char=96, buildable=True, is_obstacle=False, tile_class='GROUND', fg=Color(127,127,127), tag='reg_ground', dig_to=None),\n",
       " Tile(bg=Color(31,31,31), name='ground', diggable=False, adjacent_hidden=False, readable_name='Ground', build_to='ground_build0', char=45, buildable=True, is_obstacle=False, tile_class='GROUND', fg=Color(127,127,127), tag='reg_ground', dig_to=None)]"
      ]
     },
     "execution_count": 20,
     "metadata": {},
     "output_type": "execute_result"
    }
   ],
   "source": [
    "any_ground"
   ]
  },
  {
   "cell_type": "code",
   "execution_count": null,
   "metadata": {
    "collapsed": true
   },
   "outputs": [],
   "source": []
  }
 ],
 "metadata": {
  "kernelspec": {
   "display_name": "Python 2",
   "language": "python",
   "name": "python2"
  },
  "language_info": {
   "codemirror_mode": {
    "name": "ipython",
    "version": 2
   },
   "file_extension": ".py",
   "mimetype": "text/x-python",
   "name": "python",
   "nbconvert_exporter": "python",
   "pygments_lexer": "ipython2",
   "version": "2.7.10"
  }
 },
 "nbformat": 4,
 "nbformat_minor": 0
}
