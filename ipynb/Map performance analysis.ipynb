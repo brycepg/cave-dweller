{
 "cells": [
  {
   "cell_type": "code",
   "execution_count": 1,
   "metadata": {
    "collapsed": false
   },
   "outputs": [],
   "source": [
    "import gen_map"
   ]
  },
  {
   "cell_type": "code",
   "execution_count": 2,
   "metadata": {
    "collapsed": false
   },
   "outputs": [],
   "source": [
    "block_generator = gen_map.BlockGenerator(seed=0)"
   ]
  },
  {
   "cell_type": "code",
   "execution_count": 3,
   "metadata": {
    "collapsed": false
   },
   "outputs": [
    {
     "name": "stdout",
     "output_type": "stream",
     "text": [
      "Help on method generate_block in module gen_map:\n",
      "\n",
      "generate_block(self, idx=0, idy=0, map_size=256) method of gen_map.BlockGenerator instance\n",
      "    Block generation algorithm using simplex noise\n",
      "\n"
     ]
    }
   ],
   "source": [
    "help(block_generator.generate_block)"
   ]
  },
  {
   "cell_type": "code",
   "execution_count": 4,
   "metadata": {
    "collapsed": false
   },
   "outputs": [
    {
     "name": "stdout",
     "output_type": "stream",
     "text": [
      "10 loops, best of 3: 31.8 ms per loop\n"
     ]
    }
   ],
   "source": [
    "%timeit block_generator.generate_block(0,0,96)"
   ]
  },
  {
   "cell_type": "code",
   "execution_count": 5,
   "metadata": {
    "collapsed": false
   },
   "outputs": [
    {
     "name": "stdout",
     "output_type": "stream",
     "text": [
      "Help on function generate_block in module gen_map:\n",
      "\n",
      "generate_block(seed, idx=0, idy=0, map_size=256, octaves=8)\n",
      "    Block generation algorithm using simplex noise\n",
      "\n"
     ]
    }
   ],
   "source": [
    "help(gen_map.generate_block)"
   ]
  },
  {
   "cell_type": "code",
   "execution_count": 10,
   "metadata": {
    "collapsed": false
   },
   "outputs": [
    {
     "name": "stdout",
     "output_type": "stream",
     "text": [
      "100 loops, best of 3: 11.4 ms per loop\n"
     ]
    }
   ],
   "source": [
    "%timeit gen_map.generate_block(0., 0, 0, 96)"
   ]
  },
  {
   "cell_type": "code",
   "execution_count": 7,
   "metadata": {
    "collapsed": false
   },
   "outputs": [
    {
     "name": "stdout",
     "output_type": "stream",
     "text": [
      "Help on function block_snoise3 in module gen_map:\n",
      "\n",
      "block_snoise3(seed=0.0, idx=0, idy=0, map_size=96, octaves=8)\n",
      "    use snoise3 for block generation\n",
      "    \n",
      "    seed\n",
      "        needs to be float. Use z axis of snoise3 as the seed. a whole number\n",
      "        difference is big enough to not have much in common with the previous\n",
      "    \n",
      "    octaves\n",
      "      increase to increaase detail/roughness\n",
      "\n"
     ]
    }
   ],
   "source": [
    "help(gen_map.block_snoise3)"
   ]
  },
  {
   "cell_type": "code",
   "execution_count": 9,
   "metadata": {
    "collapsed": false
   },
   "outputs": [
    {
     "name": "stdout",
     "output_type": "stream",
     "text": [
      "100 loops, best of 3: 12.8 ms per loop\n"
     ]
    }
   ],
   "source": [
    "%timeit gen_map.block_snoise3(0., idx=0, idy=0, map_size=96)"
   ]
  },
  {
   "cell_type": "markdown",
   "metadata": {},
   "source": [
    "# noise is about twice as fast as libtcod"
   ]
  },
  {
   "cell_type": "code",
   "execution_count": null,
   "metadata": {
    "collapsed": true
   },
   "outputs": [],
   "source": []
  }
 ],
 "metadata": {
  "kernelspec": {
   "display_name": "Python 2",
   "language": "python",
   "name": "python2"
  },
  "language_info": {
   "codemirror_mode": {
    "name": "ipython",
    "version": 2
   },
   "file_extension": ".py",
   "mimetype": "text/x-python",
   "name": "python",
   "nbconvert_exporter": "python",
   "pygments_lexer": "ipython2",
   "version": "2.7.6"
  }
 },
 "nbformat": 4,
 "nbformat_minor": 0
}
